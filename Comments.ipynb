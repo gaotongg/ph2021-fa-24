{
  "nbformat": 4,
  "nbformat_minor": 0,
  "metadata": {
    "colab": {
      "provenance": [],
      "authorship_tag": "ABX9TyOXtAWOiQfHEt+dzFhUeu7q",
      "include_colab_link": true
    },
    "kernelspec": {
      "name": "python3",
      "display_name": "Python 3"
    },
    "language_info": {
      "name": "python"
    }
  },
  "cells": [
    {
      "cell_type": "markdown",
      "metadata": {
        "id": "view-in-github",
        "colab_type": "text"
      },
      "source": [
        "<a href=\"https://colab.research.google.com/github/gaotongg/ph2021-fa-24/blob/week01/Comments.ipynb\" target=\"_parent\"><img src=\"https://colab.research.google.com/assets/colab-badge.svg\" alt=\"Open In Colab\"/></a>"
      ]
    },
    {
      "cell_type": "markdown",
      "source": [
        "**Introductin to Python**\n",
        "\n",
        "by Tong Gao\n",
        "\n",
        "Date: 07/28/2024"
      ],
      "metadata": {
        "id": "sMcoVHxYDnmH"
      }
    },
    {
      "cell_type": "markdown",
      "source": [
        "# Introduction to Python\n"
      ],
      "metadata": {
        "id": "xwHWqeYXD4Ak"
      }
    },
    {
      "cell_type": "markdown",
      "source": [
        "# Comments"
      ],
      "metadata": {
        "id": "fKMS-GhxE04A"
      }
    },
    {
      "cell_type": "markdown",
      "source": [
        "Comments are usually used to indicate important details about the code.\n",
        "\n",
        "\"#\" - sign is used for comments in python, it can be placed right after the code.\n",
        "\n",
        "You can use triple quotes to make a multiline comments\n",
        "\n",
        "\"\"\" Your comments can be placed here \"\"\""
      ],
      "metadata": {
        "id": "95f_6_PbFDsk"
      }
    },
    {
      "cell_type": "code",
      "source": [
        "# @title\n",
        "# This is a comment\n",
        "print(\"Hello World!\")"
      ],
      "metadata": {
        "colab": {
          "base_uri": "https://localhost:8080/"
        },
        "id": "EzgnB7SAF2Hs",
        "outputId": "19bd5826-d15d-458e-975e-d41f4ee3a192"
      },
      "execution_count": null,
      "outputs": [
        {
          "output_type": "stream",
          "name": "stdout",
          "text": [
            "Hello World!\n"
          ]
        }
      ]
    },
    {
      "cell_type": "code",
      "source": [
        "# This is a first comment\n",
        "print(\"Hello World!\") # This is my second comment"
      ],
      "metadata": {
        "colab": {
          "base_uri": "https://localhost:8080/"
        },
        "id": "NHQIdP0nF8IZ",
        "outputId": "bf8ad651-1c55-4f88-8c61-3587d5c35add"
      },
      "execution_count": null,
      "outputs": [
        {
          "output_type": "stream",
          "name": "stdout",
          "text": [
            "Hello World!\n"
          ]
        }
      ]
    },
    {
      "cell_type": "code",
      "source": [
        "\"\"\" This is a multiple\n",
        "line\n",
        "commnet \"\"\"\n",
        "print(\"Hello World!\")"
      ],
      "metadata": {
        "colab": {
          "base_uri": "https://localhost:8080/"
        },
        "id": "oVfXjlu-GHb3",
        "outputId": "db35081b-1afb-4f50-951c-1e97ad5e889e"
      },
      "execution_count": null,
      "outputs": [
        {
          "output_type": "stream",
          "name": "stdout",
          "text": [
            "Hello World!\n"
          ]
        }
      ]
    }
  ]
}